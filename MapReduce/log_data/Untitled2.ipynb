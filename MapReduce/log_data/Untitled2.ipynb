{
 "cells": [
  {
   "cell_type": "code",
   "execution_count": 3,
   "metadata": {},
   "outputs": [
    {
     "data": {
      "text/plain": [
       "(10605, 5)"
      ]
     },
     "execution_count": 3,
     "metadata": {},
     "output_type": "execute_result"
    }
   ],
   "source": [
    "import datetime\n",
    "import pandas as pd\n",
    "data = pd.read_csv('cpi_logs_data.csv')\n",
    "data.shape"
   ]
  },
  {
   "cell_type": "code",
   "execution_count": 9,
   "metadata": {},
   "outputs": [
    {
     "data": {
      "text/plain": [
       "Index(['DateTime', 'user_name', 'keyboard', 'mouse', 'technology'], dtype='object')"
      ]
     },
     "execution_count": 9,
     "metadata": {},
     "output_type": "execute_result"
    }
   ],
   "source": [
    "data = pd.read_csv(\"cpi_logs_data.csv\", names=\n",
    "                   ['DateTime', 'user_name', 'keyboard', 'mouse', 'technology'])\n",
    "data.columns"
   ]
  },
  {
   "cell_type": "code",
   "execution_count": 1,
   "metadata": {},
   "outputs": [],
   "source": [
    "# DateTime, user_name, keyboard, mouse, technology, Dates, Time"
   ]
  },
  {
   "cell_type": "code",
   "execution_count": 12,
   "metadata": {},
   "outputs": [
    {
     "data": {
      "text/plain": [
       "388      2019-10-24 09:40:01\n",
       "389      2019-10-24 09:35:01\n",
       "405      2019-10-24 09:45:01\n",
       "478      2019-10-24 09:50:02\n",
       "505      2019-10-24 09:55:01\n",
       "                ...         \n",
       "10073    2019-10-24 20:05:02\n",
       "10086    2019-10-24 20:10:01\n",
       "10102    2019-10-24 20:15:02\n",
       "10121    2019-10-24 20:20:06\n",
       "10128    2019-10-24 20:25:03\n",
       "Name: DateTime, Length: 120, dtype: object"
      ]
     },
     "execution_count": 12,
     "metadata": {},
     "output_type": "execute_result"
    }
   ],
   "source": [
    "data[data['user_name'] == \"shibadattanayak@gmail.com\"][\"DateTime\"]"
   ]
  },
  {
   "cell_type": "code",
   "execution_count": null,
   "metadata": {},
   "outputs": [],
   "source": []
  }
 ],
 "metadata": {
  "kernelspec": {
   "display_name": "Python 3",
   "language": "python",
   "name": "python3"
  },
  "language_info": {
   "codemirror_mode": {
    "name": "ipython",
    "version": 3
   },
   "file_extension": ".py",
   "mimetype": "text/x-python",
   "name": "python",
   "nbconvert_exporter": "python",
   "pygments_lexer": "ipython3",
   "version": "3.6.9"
  }
 },
 "nbformat": 4,
 "nbformat_minor": 4
}
