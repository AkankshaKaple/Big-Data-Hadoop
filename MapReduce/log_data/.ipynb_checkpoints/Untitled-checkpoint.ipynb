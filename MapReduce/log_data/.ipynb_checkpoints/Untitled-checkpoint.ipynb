{
 "cells": [
  {
   "cell_type": "code",
   "execution_count": 25,
   "metadata": {},
   "outputs": [],
   "source": [
    "def idle_hours(data,user):\n",
    "    # date=datetime.date.today()\n",
    "    start = min(data.Time[(data.user_name == user)])\n",
    "    idle_hours = (datetime.datetime.combine(date, start) - datetime.datetime.combine(date,datetime.time(8, 30, 0))) / 3600\n",
    "    idle_hours = idle_hours.seconds\n",
    "    count = 0\n",
    "    zero = 0\n",
    "    for i in range(0, data.shape[0]):\n",
    "\n",
    "        if (count == 5) and (zero == 5):\n",
    "            idle_hours += 0.5\n",
    "            count = 0\n",
    "            zero = 0\n",
    "        elif (count == 5) and (zero != 5):\n",
    "            count = 0\n",
    "            zero = 0\n",
    "\n",
    "        if data.iloc[i][\"keyboard\"] == 0 and data.iloc[i][\"mouse\"] == 0:\n",
    "            zero = zero + 1\n",
    "        count = count + 1\n",
    "    return (idle_hours)"
   ]
  },
  {
   "cell_type": "code",
   "execution_count": 26,
   "metadata": {},
   "outputs": [
    {
     "data": {
      "text/plain": [
       "DateTime      object\n",
       "user_name     object\n",
       "keyboard     float64\n",
       "mouse          int64\n",
       "dtype: object"
      ]
     },
     "execution_count": 26,
     "metadata": {},
     "output_type": "execute_result"
    }
   ],
   "source": [
    "import pandas as pd\n",
    "import datetime\n",
    "data = pd.read_csv(\"cpu_log.csv\")\n",
    "data.drop(columns=['Cpu Count', 'Cpu Working Time', 'Cpu idle Time',\n",
    "       'cpu_percent', 'Usage Cpu Count ',\n",
    "       'number of software interrupts since boot',\n",
    "       'number of system calls since boot', 'number of interrupts since boot',\n",
    "       'cpu avg load over 1 min', 'cpu avg load over 5 min',\n",
    "       'cpu avg load over 15 min', 'system_total_memory', 'system_used_memory',\n",
    "       'system_free_memory', 'system_active_memory', 'system_inactive_memory',\n",
    "       'system_buffers_memory', 'system_cached_memory', 'system_shared_memory',\n",
    "       'system_avalible_memory', 'disk_total_memory', 'disk_used_memory',\n",
    "       'disk_free_memory', 'disk_read_count', 'disk_write_count',\n",
    "       'disk_read_bytes', 'disk_write_bytes', 'time spent reading from disk',\n",
    "       'time spent writing to disk', 'time spent doing actual I/Os',\n",
    "       'number of bytes sent', 'number of bytes received',\n",
    "       'number of packets sent', 'number of packets recived',\n",
    "       'total number of errors while receiving',\n",
    "       'total number of errors while sending',\n",
    "       'total number of incoming packets which were dropped',\n",
    "       'total number of outgoing packets which were dropped', 'boot_time',\n",
    "       'technology', 'files_changed'], inplace=True)\n",
    "data.dtypes"
   ]
  },
  {
   "cell_type": "code",
   "execution_count": 27,
   "metadata": {},
   "outputs": [],
   "source": [
    "# data['DateTime']"
   ]
  },
  {
   "cell_type": "code",
   "execution_count": 28,
   "metadata": {},
   "outputs": [
    {
     "data": {
      "text/plain": [
       "array([datetime.date(2019, 10, 24), datetime.date(2019, 10, 25)],\n",
       "      dtype=object)"
      ]
     },
     "execution_count": 28,
     "metadata": {},
     "output_type": "execute_result"
    }
   ],
   "source": [
    "data['Dates'] = pd.to_datetime(data['DateTime']).dt.date\n",
    "data['Time'] = pd.to_datetime(data['DateTime']).dt.time\n",
    "x = data['Dates'].unique()\n",
    "data.columns\n",
    "data['Dates'].unique()\n"
   ]
  },
  {
   "cell_type": "code",
   "execution_count": 29,
   "metadata": {},
   "outputs": [],
   "source": [
    "df = data[data['Dates'] == data['Dates'].unique()[0]]\n",
    "# df.to_csv(\"Processed_cpu_logs.csv\")"
   ]
  },
  {
   "cell_type": "code",
   "execution_count": 30,
   "metadata": {},
   "outputs": [
    {
     "data": {
      "text/plain": [
       "4"
      ]
     },
     "execution_count": 30,
     "metadata": {},
     "output_type": "execute_result"
    }
   ],
   "source": [
    "def get_info(date):\n",
    "    dict1 = {}\n",
    "    index = 0\n",
    "    for user in data[data['Dates'] == date]['user_name'].unique():\n",
    "        d = data[data['user_name'] == user]\n",
    "        start = min(data.Time[(data.Dates == date) & (data.user_name == user)])\n",
    "        end = max(data.Time[(data.Dates == date) & (data.user_name == user)])\n",
    "        starthours = datetime.datetime.combine(date, start)\n",
    "        endhours = datetime.datetime.combine(date, end)\n",
    "        diff = (endhours - starthours)\n",
    "        diff = diff.seconds / 3600\n",
    "        json_data = {}\n",
    "        for i in range(len(d)):\n",
    "            if str(end) in str(d['DateTime'].iloc[i]):\n",
    "                json_data['end'] = data['DateTime'][i]\n",
    "            if str(start) in str(d['DateTime'].iloc[i]):\n",
    "                json_data['start'] = data['DateTime'][i]\n",
    "           \n",
    "        json_data[\"user\"] = user\n",
    "        json_data[\"date\"] = str(date)\n",
    "        json_data[\"idle_hours\"] = idle_hours(data[data.user_name == user], user)\n",
    "        json_data[\"average_working_hours\"] = diff - json_data[\"idle_hours\"]\n",
    "        \n",
    "        dict1[str(index)] = json_data\n",
    "        index +=1\n",
    "    return dict1\n",
    "\n",
    "for date in data['Dates'].unique():\n",
    "    dict1 = get_info(date)\n",
    "len(dict1)"
   ]
  },
  {
   "cell_type": "code",
   "execution_count": 31,
   "metadata": {},
   "outputs": [],
   "source": [
    "# df = pd.DataFrame(dict1).T\n",
    "# df = df[df['date'] != x[0]]\n"
   ]
  },
  {
   "cell_type": "code",
   "execution_count": 32,
   "metadata": {},
   "outputs": [
    {
     "name": "stderr",
     "output_type": "stream",
     "text": [
      "UsageError: %%js is a cell magic, but the cell body is empty.\n"
     ]
    }
   ],
   "source": [
    "%%js"
   ]
  },
  {
   "cell_type": "code",
   "execution_count": null,
   "metadata": {},
   "outputs": [],
   "source": [
    "df.columns\n"
   ]
  },
  {
   "cell_type": "code",
   "execution_count": null,
   "metadata": {},
   "outputs": [],
   "source": [
    "df.shape"
   ]
  }
 ],
 "metadata": {
  "kernelspec": {
   "display_name": "Python 3",
   "language": "python",
   "name": "python3"
  },
  "language_info": {
   "codemirror_mode": {
    "name": "ipython",
    "version": 3
   },
   "file_extension": ".py",
   "mimetype": "text/x-python",
   "name": "python",
   "nbconvert_exporter": "python",
   "pygments_lexer": "ipython3",
   "version": "3.6.9"
  }
 },
 "nbformat": 4,
 "nbformat_minor": 4
}
